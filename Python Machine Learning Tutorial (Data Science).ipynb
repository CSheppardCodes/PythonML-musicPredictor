{
 "cells": [
  {
   "cell_type": "code",
   "execution_count": 6,
   "id": "1f0b3b5b",
   "metadata": {},
   "outputs": [],
   "source": [
    "import pandas as pd\n",
    "\n",
    "#ML algo decision tree\n",
    "#module = tree, Class = DecisionTreeClassifier(implements algo)\n",
    "from sklearn.tree import DecisionTreeClassifier\n",
    "from sklearn import tree\n",
    "\n",
    "#dataframe = pd.read_csv('vgsales.csv')\n",
    "#read in the csv store into music_data\n",
    "music_data = pd.read_csv('music.csv')\n",
    "#clean data and store into Input dropping genre\n",
    "Input = music_data.drop(columns = ['genre'])\n",
    "#store genre into output\n",
    "Output = music_data['genre']\n",
    "\n",
    "#create new instance of this class called model\n",
    "model = DecisionTreeClassifier()\n",
    "# #take in input and output set\n",
    "model.fit(Input,Output)\n",
    "\n",
    "\n",
    "tree.export_graphviz(model, out_file='music-recommender.dot',\n",
    "                   feature_names = ['age', 'gender'],\n",
    "                   class_names = sorted(Output.unique()),\n",
    "                   label = 'all',\n",
    "                   rounded = True,\n",
    "                   filled = True)\n",
    "\n",
    "\n",
    "\n",
    "\n",
    "\n"
   ]
  }
 ],
 "metadata": {
  "kernelspec": {
   "display_name": "Python 3 (ipykernel)",
   "language": "python",
   "name": "python3"
  },
  "language_info": {
   "codemirror_mode": {
    "name": "ipython",
    "version": 3
   },
   "file_extension": ".py",
   "mimetype": "text/x-python",
   "name": "python",
   "nbconvert_exporter": "python",
   "pygments_lexer": "ipython3",
   "version": "3.9.7"
  }
 },
 "nbformat": 4,
 "nbformat_minor": 5
}
