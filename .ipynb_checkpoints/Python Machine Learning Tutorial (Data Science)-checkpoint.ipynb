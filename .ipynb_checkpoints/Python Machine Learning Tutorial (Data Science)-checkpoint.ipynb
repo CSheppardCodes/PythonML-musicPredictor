{
 "cells": [
  {
   "cell_type": "code",
   "execution_count": 49,
   "id": "1f0b3b5b",
   "metadata": {},
   "outputs": [
    {
     "data": {
      "text/plain": [
       "1.0"
      ]
     },
     "execution_count": 49,
     "metadata": {},
     "output_type": "execute_result"
    }
   ],
   "source": [
    "import pandas as pd\n",
    "#ML algo decision tree\n",
    "#module = tree, Class = DecisionTreeClassifier(implements algo)\n",
    "from sklearn.tree import DecisionTreeClassifier\n",
    "#\n",
    "from sklearn.model_selection import train_test_split\n",
    "from sklearn.metrics import accuracy_score\n",
    "\n",
    "\n",
    "#dataframe = pd.read_csv('vgsales.csv')\n",
    "#read in the csv store into music_data\n",
    "music_data = pd.read_csv('music.csv')\n",
    "#clean data and store into Input dropping genre\n",
    "Input = music_data.drop(columns = ['genre'])\n",
    "#store genre into output\n",
    "Output = music_data['genre']\n",
    "\n",
    "# split into train and test with ratio\n",
    "ITR,ITE,OTR,OTE = train_test_split(Input, Output, test_size= 0.1)\n",
    "#create new instance of this class called model\n",
    "model = DecisionTreeClassifier()\n",
    "#take in input and output set\n",
    "model.fit(ITR, OTR)\n",
    "\n",
    "#takes in 2 arrays\n",
    "predictions = model.predict(ITE)\n",
    "\n",
    "\n",
    "\n",
    "score = accuracy_score(OTE, predictions)\n",
    "score\n"
   ]
  }
 ],
 "metadata": {
  "kernelspec": {
   "display_name": "Python 3 (ipykernel)",
   "language": "python",
   "name": "python3"
  },
  "language_info": {
   "codemirror_mode": {
    "name": "ipython",
    "version": 3
   },
   "file_extension": ".py",
   "mimetype": "text/x-python",
   "name": "python",
   "nbconvert_exporter": "python",
   "pygments_lexer": "ipython3",
   "version": "3.9.7"
  }
 },
 "nbformat": 4,
 "nbformat_minor": 5
}
